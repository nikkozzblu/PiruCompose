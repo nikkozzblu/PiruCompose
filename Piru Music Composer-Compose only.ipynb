{
 "cells": [
  {
   "cell_type": "markdown",
   "metadata": {},
   "source": [
    "# Piru Music Composer - Composer only\n",
    "\n",
    "This notebook can be run in parallel of a training to check the output produced by an intermediate epoch"
   ]
  },
  {
   "cell_type": "code",
   "execution_count": 119,
   "metadata": {},
   "outputs": [],
   "source": [
    "import guitarpro\n",
    "import pandas as pd\n",
    "import numpy as np\n",
    "import math\n",
    "import os\n",
    "from music21 import *"
   ]
  },
  {
   "cell_type": "code",
   "execution_count": 120,
   "metadata": {},
   "outputs": [
    {
     "name": "stdout",
     "output_type": "stream",
     "text": [
      "output/weights-improvement-08-0.5145-bigger.hdf5\n",
      "Model: \"sequential_10\"\n",
      "_________________________________________________________________\n",
      "Layer (type)                 Output Shape              Param #   \n",
      "=================================================================\n",
      "lstm_28 (LSTM)               (None, 100, 256)          537600    \n",
      "_________________________________________________________________\n",
      "dropout_28 (Dropout)         (None, 100, 256)          0         \n",
      "_________________________________________________________________\n",
      "lstm_29 (LSTM)               (None, 100, 512)          1574912   \n",
      "_________________________________________________________________\n",
      "dropout_29 (Dropout)         (None, 100, 512)          0         \n",
      "_________________________________________________________________\n",
      "lstm_30 (LSTM)               (None, 256)               787456    \n",
      "_________________________________________________________________\n",
      "dense_19 (Dense)             (None, 256)               65792     \n",
      "_________________________________________________________________\n",
      "dropout_30 (Dropout)         (None, 256)               0         \n",
      "_________________________________________________________________\n",
      "dense_20 (Dense)             (None, 268)               68876     \n",
      "_________________________________________________________________\n",
      "activation_10 (Activation)   (None, 268)               0         \n",
      "=================================================================\n",
      "Total params: 3,034,636\n",
      "Trainable params: 3,034,636\n",
      "Non-trainable params: 0\n",
      "_________________________________________________________________\n"
     ]
    }
   ],
   "source": [
    "from keras.models import Sequential\n",
    "from keras.layers import Dense\n",
    "from keras.layers import Dropout\n",
    "from keras.layers import LSTM\n",
    "from keras.layers import Activation\n",
    "from keras.callbacks import ModelCheckpoint\n",
    "\n",
    "model_path = 'output/weights-improvement-08-0.5145-bigger.hdf5'\n",
    "print(model_path)\n",
    "\n",
    "model = Sequential()\n",
    "model.add(LSTM(\n",
    "    256,\n",
    "    input_shape=(network_input.shape[1], network_input.shape[2]),\n",
    "    return_sequences=True\n",
    "))\n",
    "model.add(Dropout(0.3))\n",
    "model.add(LSTM(512, return_sequences=True))\n",
    "model.add(Dropout(0.3))\n",
    "model.add(LSTM(256))\n",
    "model.add(Dense(256))\n",
    "model.add(Dropout(0.3))\n",
    "model.add(Dense(n_features))\n",
    "model.add(Activation('softmax'))\n",
    "model.compile(loss='categorical_crossentropy', optimizer='adam')\n",
    "model.summary()\n",
    "\n",
    "model.load_weights(model_path)"
   ]
  },
  {
   "cell_type": "code",
   "execution_count": 121,
   "metadata": {},
   "outputs": [
    {
     "name": "stdout",
     "output_type": "stream",
     "text": [
      "variety 5 {'61.56.49', '60.55.48', '64.59.52', 'x', '59.54.47'}\n",
      "variety 2 {'64.59.52', '58.53.46'}\n",
      "variety 5 {'45', '55.50.45', '62.57.50', '48', '47'}\n",
      "variety 7 {'57.52.45', '63.58.51', '55.50.43', '60.55.48', '56.51.44', '45.40', 'x'}\n",
      "['63.58.51', '63.58.51', '63.58.51', '57.52.45', '57.52.45', 'x', '57.52.45', '56.51.44', '55.50.43', '45.40', '57.52.45', '57.52.45', 'x', '57.52.45', '56.51.44', '55.50.43', '45.40', '60.55.48', '60.55.48', '60.55.48', '60.55.48', '60.55.48', '60.55.48', '63.58.51', '63.58.51', '63.58.51', '63.58.51', '63.58.51', '63.58.51', '57.52.45', '57.52.45', 'x', '57.52.45', '56.51.44', '55.50.43', '45.40', '57.52.45', '57.52.45', 'x', '57.52.45', '56.51.44', '55.50.43', '45.40', '60.55.48', '60.55.48', '60.55.48', '60.55.48', '60.55.48', '60.55.48', '63.58.51', '63.58.51', '63.58.51', '63.58.51', '63.58.51', '63.58.51', '57.52.45', '57.52.45', 'x', '57.52.45', '56.51.44', '55.50.43', '45.40', '57.52.45', '57.52.45', 'x', '57.52.45', '56.51.44', '55.50.43', '45.40', '60.55.48', '60.55.48', '60.55.48', '60.55.48', '60.55.48', '60.55.48', '63.58.51', '63.58.51', '63.58.51', '63.58.51', '63.58.51', '63.58.51', '57.52.45', '57.52.45', 'x', '57.52.45', '56.51.44', '55.50.43', '45.40', '57.52.45', '57.52.45', 'x', '57.52.45', '56.51.44', '55.50.43', '45.40', '60.55.48', '60.55.48', '60.55.48', '60.55.48', '60.55.48']\n"
     ]
    },
    {
     "data": {
      "text/plain": [
       "'output/test_output.mid'"
      ]
     },
     "execution_count": 121,
     "metadata": {},
     "output_type": "execute_result"
    }
   ],
   "source": [
    "variety = 0\n",
    "# We impose minimum 6 different notes or chords\n",
    "while variety < 6:\n",
    "    start = np.random.randint(0, len(network_input)-1)\n",
    "    mixup = 10\n",
    "    pattern = network_input[start,:mixup]\n",
    "    for i in range(1,10):\n",
    "        pattern = np.append(pattern,network_input[start*(i+1)%len(network_input),:mixup],axis=0)\n",
    "        \n",
    "    prediction_output = []\n",
    "    \n",
    "    # generate 100 notes or chords\n",
    "    for note_index in range(100):\n",
    "        prediction_input = np.reshape(pattern, (1, pattern.shape[0], pattern.shape[1]))\n",
    "        prediction = model.predict(prediction_input, verbose=0)\n",
    "\n",
    "        index = np.argmax(prediction)\n",
    "        prediction_output+=[onehotenc_notes.columns[index]]\n",
    "        prediction[:,index]=1\n",
    "        prediction[prediction<1]=0\n",
    "        pattern = np.append(pattern,prediction.astype('uint8'), axis=0)\n",
    "        pattern = pattern[1:]\n",
    "\n",
    "    variety = len(set(prediction_output))\n",
    "    print('variety',variety,set(prediction_output))\n",
    "print(prediction_output)\n",
    "\n",
    "offset = 0\n",
    "output_notes = []\n",
    "# create note and chord objects based on the values generated by the model\n",
    "for pattern in prediction_output:\n",
    "    # pattern is a chord\n",
    "    if ('.' in pattern) or pattern.isdigit():\n",
    "        notes_in_chord = pattern.split('.')\n",
    "        notes = []\n",
    "        for current_note in notes_in_chord:\n",
    "            new_note = note.Note(int(current_note))\n",
    "            new_note.storedInstrument = instrument.ElectricGuitar()\n",
    "            notes.append(new_note)\n",
    "        new_chord = chord.Chord(notes)\n",
    "        new_chord.offset = offset\n",
    "        output_notes.append(new_chord)\n",
    "    # pattern is a note\n",
    "    elif pattern == 'x':\n",
    "        new_note = note.Note(999)\n",
    "        new_note.offset = offset\n",
    "        new_note.storedInstrument = instrument.Woodblock()\n",
    "        output_notes.append(new_note)\n",
    "    else:\n",
    "        new_note = note.Note(pattern)\n",
    "        new_note.offset = offset\n",
    "        new_note.storedInstrument = instrument.ElectricGuitar()\n",
    "        output_notes.append(new_note)\n",
    "    # increase offset each iteration so that notes do not stack\n",
    "    offset += 0.5\n",
    "midi_stream = stream.Stream(output_notes)\n",
    "midi_stream.write('midi', fp='output/test_output.mid')\n"
   ]
  },
  {
   "cell_type": "code",
   "execution_count": null,
   "metadata": {},
   "outputs": [],
   "source": []
  }
 ],
 "metadata": {
  "kernelspec": {
   "display_name": "PiruCompose",
   "language": "python",
   "name": "pirucompose"
  },
  "language_info": {
   "codemirror_mode": {
    "name": "ipython",
    "version": 3
   },
   "file_extension": ".py",
   "mimetype": "text/x-python",
   "name": "python",
   "nbconvert_exporter": "python",
   "pygments_lexer": "ipython3",
   "version": "3.7.4"
  }
 },
 "nbformat": 4,
 "nbformat_minor": 2
}
